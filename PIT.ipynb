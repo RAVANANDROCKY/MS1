{
 "cells": [
  {
   "cell_type": "code",
   "execution_count": null,
   "id": "e1327205",
   "metadata": {},
   "outputs": [],
   "source": [
    "1. Find the datatype of these two declaration :\n",
    "x = 5\n",
    "y = \"John\"\n",
    "x = 5\n",
    "The value assigned to the variable 'x' is an integer (5). Therefore, the datatype of 'x' is an integer.\n",
    "y = \"John\"\n",
    "The value assigned to the variable 'y' is a string (\"John\"). Therefore, the datatype of 'y' is a string"
   ]
  },
  {
   "cell_type": "code",
   "execution_count": null,
   "id": "07e3143e",
   "metadata": {},
   "outputs": [],
   "source": [
    "Check whether the following syntax is valid or invalid for naming\n",
    "a variable. :\n",
    "Example: abc=100 #valid syntax\n",
    "i. 3a=10\n",
    "ii. @abc=10\n",
    "iii. a100=100\n",
    "iv. _a984_=100\n",
    "v. a9967$=100\n",
    "vi. xyz-2=100\n",
    "\n",
    "i. 3a=10: Invalid syntax. Variable names cannot start with a number.\n",
    "\n",
    "ii. @abc=10: Invalid syntax. Variable names cannot start with a special character like \"@\".\n",
    "\n",
    "iii. a100=100: Valid syntax. Variable names can start with a letter or an underscore, followed by any combination of letters, numbers, and underscores.\n",
    "\n",
    "iv. a984=100: Valid syntax. Variable names can start with an underscore, followed by any combination of letters, numbers, and underscores.\n",
    "\n",
    "v. a9967$=100: Invalid syntax. Variable names cannot contain special characters like \"$\".\n",
    "\n",
    "vi. xyz-2=100: Invalid syntax. Variable names cannot contain hyphens (\"-\")."
   ]
  },
  {
   "cell_type": "code",
   "execution_count": null,
   "id": "ac6c56a7",
   "metadata": {},
   "outputs": [],
   "source": [
    "3. Check if element exists in list in Python :\n",
    "list = test_list = [1, 6, 3, 5, 3, 4]\n",
    "1. Check if 3 exist or not\n",
    "2. 2. Check if 9 exists or not."
   ]
  },
  {
   "cell_type": "code",
   "execution_count": 1,
   "id": "d5fbe7a3",
   "metadata": {},
   "outputs": [
    {
     "name": "stdout",
     "output_type": "stream",
     "text": [
      "3 exists in the list\n"
     ]
    }
   ],
   "source": [
    "list = test_list = [1, 6, 3, 5, 3, 4]\n",
    "test_list = [1, 6, 3, 5, 3, 4]\n",
    "# 1. Check if 3 exists or not\n",
    "if 3 in test_list:\n",
    "    print(\"3 exists in the list\")\n",
    "\n",
    "# 2. Check if 9 exists or not\n",
    "if 9 in test_list:\n",
    "    print(\"9 exists in the list\")"
   ]
  },
  {
   "cell_type": "code",
   "execution_count": null,
   "id": "03f3c26b",
   "metadata": {},
   "outputs": [],
   "source": [
    "4. Take the user input to print the current date"
   ]
  },
  {
   "cell_type": "code",
   "execution_count": 5,
   "id": "5575f5d5",
   "metadata": {},
   "outputs": [
    {
     "name": "stdout",
     "output_type": "stream",
     "text": [
      "Current date and time: 2023-05-28 23:18:44.002252\n"
     ]
    }
   ],
   "source": [
    "import datetime\n",
    "print(\"Current date and time:\",datetime.datetime.now())"
   ]
  },
  {
   "cell_type": "code",
   "execution_count": null,
   "id": "ff6b31c4",
   "metadata": {},
   "outputs": [],
   "source": [
    "5. what is the output of the following code :\n",
    "a. print 9//2\n",
    "b. print 9%2"
   ]
  },
  {
   "cell_type": "code",
   "execution_count": 2,
   "id": "a97bdb47",
   "metadata": {},
   "outputs": [
    {
     "name": "stdout",
     "output_type": "stream",
     "text": [
      "4\n"
     ]
    }
   ],
   "source": [
    "a = 9//2\n",
    "print(a)"
   ]
  },
  {
   "cell_type": "code",
   "execution_count": null,
   "id": "54bf8620",
   "metadata": {},
   "outputs": [],
   "source": [
    "The double forward slash operator // is used for integer division or floor division, which returns the quotient without the remainder. In this case, 9 divided by 2 equals 4.5, but since it's floor division, the result will be the integer part of the division"
   ]
  },
  {
   "cell_type": "code",
   "execution_count": 3,
   "id": "cb8d9526",
   "metadata": {},
   "outputs": [
    {
     "name": "stdout",
     "output_type": "stream",
     "text": [
      "1\n"
     ]
    }
   ],
   "source": [
    "b = 9%2\n",
    "print(b)"
   ]
  },
  {
   "cell_type": "code",
   "execution_count": null,
   "id": "9f5e545e",
   "metadata": {},
   "outputs": [],
   "source": [
    "The percent sign % is the modulus operator, which returns the remainder of the division operation. In this case, 9 divided by 2 equals 4 with a remainder of 1."
   ]
  },
  {
   "cell_type": "code",
   "execution_count": null,
   "id": "26783fc6",
   "metadata": {},
   "outputs": [],
   "source": [
    "6.Print First 10 natural numbers using a while loop"
   ]
  },
  {
   "cell_type": "code",
   "execution_count": 10,
   "id": "c56ca25b",
   "metadata": {},
   "outputs": [
    {
     "name": "stdout",
     "output_type": "stream",
     "text": [
      "Enter 10 Natural Numbers11\n",
      "11\n",
      "10\n",
      "9\n",
      "8\n",
      "7\n",
      "6\n",
      "5\n",
      "4\n",
      "3\n",
      "2\n",
      "1\n"
     ]
    }
   ],
   "source": [
    "i = int(input(\"Enter 10 Natural Numbers\"))\n",
    "while(i>0):\n",
    " print(i)\n",
    " i-=1"
   ]
  },
  {
   "cell_type": "markdown",
   "id": "fd4458bb",
   "metadata": {},
   "source": [
    "7.Write a program to accept a number from a user and calculate\n",
    "the sum of all numbers from 1 to a given number.\n",
    "For example, if the user entered 10 the output should be 55\n",
    "(1+2+3+4+5+6+7+8+9+10)"
   ]
  },
  {
   "cell_type": "code",
   "execution_count": 3,
   "id": "caf4f2e4",
   "metadata": {},
   "outputs": [
    {
     "name": "stdout",
     "output_type": "stream",
     "text": [
      "Enter a number: 12\n",
      "The sum of numbers from 1 to 12 is: 78\n"
     ]
    }
   ],
   "source": [
    "num = int(input(\"Enter a number: \"))\n",
    "sum = 0\n",
    "\n",
    "for i in range(1, num + 1):\n",
    "    sum += i\n",
    "\n",
    "print(\"The sum of numbers from 1 to\", num, \"is:\", sum)\n"
   ]
  },
  {
   "cell_type": "code",
   "execution_count": null,
   "id": "98bcfa78",
   "metadata": {},
   "outputs": [],
   "source": [
    "8.Write a Python program which iterates the integers from 1 to 50.\n",
    "For multiples of three print \"Fizz\" instead of the number and for\n",
    "the multiples of five print \"Buzz\". For numbers which are\n",
    "multiples of both three and five print \"FizzBuzz\".\n",
    "Example :\n",
    "fizzbuzz\n",
    "1\n",
    "2\n",
    "fizz\n",
    "4\n",
    "buzz"
   ]
  },
  {
   "cell_type": "code",
   "execution_count": 5,
   "id": "6c76c99a",
   "metadata": {},
   "outputs": [
    {
     "name": "stdout",
     "output_type": "stream",
     "text": [
      "1\n",
      "2\n",
      "Fizz\n",
      "4\n",
      "Buzz\n",
      "Fizz\n",
      "7\n",
      "8\n",
      "Fizz\n",
      "Buzz\n",
      "11\n",
      "Fizz\n",
      "13\n",
      "14\n",
      "FizzBuzz\n",
      "16\n",
      "17\n",
      "Fizz\n",
      "19\n",
      "Buzz\n",
      "Fizz\n",
      "22\n",
      "23\n",
      "Fizz\n",
      "Buzz\n",
      "26\n",
      "Fizz\n",
      "28\n",
      "29\n",
      "FizzBuzz\n",
      "31\n",
      "32\n",
      "Fizz\n",
      "34\n",
      "Buzz\n",
      "Fizz\n",
      "37\n",
      "38\n",
      "Fizz\n",
      "Buzz\n",
      "41\n",
      "Fizz\n",
      "43\n",
      "44\n",
      "FizzBuzz\n",
      "46\n",
      "47\n",
      "Fizz\n",
      "49\n",
      "Buzz\n",
      "Fizz\n",
      "52\n",
      "53\n",
      "Fizz\n"
     ]
    }
   ],
   "source": [
    "for num in range(1, 55):\n",
    "    if num % 3 == 0 and num % 5 == 0:\n",
    "        print(\"FizzBuzz\")\n",
    "    elif num % 3 == 0:\n",
    "        print(\"Fizz\")\n",
    "    elif num % 5 == 0:\n",
    "        print(\"Buzz\")\n",
    "    else:\n",
    "        print(num)\n"
   ]
  },
  {
   "cell_type": "code",
   "execution_count": null,
   "id": "268104c0",
   "metadata": {},
   "outputs": [],
   "source": []
  }
 ],
 "metadata": {
  "kernelspec": {
   "display_name": "Python 3 (ipykernel)",
   "language": "python",
   "name": "python3"
  },
  "language_info": {
   "codemirror_mode": {
    "name": "ipython",
    "version": 3
   },
   "file_extension": ".py",
   "mimetype": "text/x-python",
   "name": "python",
   "nbconvert_exporter": "python",
   "pygments_lexer": "ipython3",
   "version": "3.9.12"
  }
 },
 "nbformat": 4,
 "nbformat_minor": 5
}
